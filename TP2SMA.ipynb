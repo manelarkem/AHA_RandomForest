{
 "cells": [
  {
   "cell_type": "markdown",
   "metadata": {},
   "source": [
    "## Fake instagram account Prediction"
   ]
  },
  {
   "cell_type": "code",
   "execution_count": 1,
   "metadata": {},
   "outputs": [],
   "source": [
    "#load the libraries\n",
    "\n",
    "import pandas as pd\n",
    "import numpy as np\n",
    "from sklearn.preprocessing import StandardScaler\n",
    "from sklearn.metrics import classification_report\n",
    "from sklearn.model_selection import train_test_split\n",
    "from sklearn.ensemble import RandomForestClassifier\n",
    "from joblib import dump, load"
   ]
  },
  {
   "cell_type": "code",
   "execution_count": 2,
   "metadata": {},
   "outputs": [],
   "source": [
    "data = pd.read_csv('dataset1.csv', sep=';')"
   ]
  },
  {
   "cell_type": "code",
   "execution_count": 3,
   "metadata": {},
   "outputs": [
    {
     "data": {
      "text/plain": [
       "0    288\n",
       "1    288\n",
       "Name: fake, dtype: int64"
      ]
     },
     "execution_count": 3,
     "metadata": {},
     "output_type": "execute_result"
    }
   ],
   "source": [
    "data.fake.value_counts()"
   ]
  },
  {
   "cell_type": "code",
   "execution_count": 4,
   "metadata": {},
   "outputs": [
    {
     "data": {
      "text/html": [
       "<div>\n",
       "<style scoped>\n",
       "    .dataframe tbody tr th:only-of-type {\n",
       "        vertical-align: middle;\n",
       "    }\n",
       "\n",
       "    .dataframe tbody tr th {\n",
       "        vertical-align: top;\n",
       "    }\n",
       "\n",
       "    .dataframe thead th {\n",
       "        text-align: right;\n",
       "    }\n",
       "</style>\n",
       "<table border=\"1\" class=\"dataframe\">\n",
       "  <thead>\n",
       "    <tr style=\"text-align: right;\">\n",
       "      <th></th>\n",
       "      <th>profilePic</th>\n",
       "      <th>lengthUsername</th>\n",
       "      <th>fullnameWords</th>\n",
       "      <th>lengthFullname</th>\n",
       "      <th>username</th>\n",
       "      <th>descriptionLength</th>\n",
       "      <th>externalURL</th>\n",
       "      <th>private</th>\n",
       "      <th>posts</th>\n",
       "      <th>followers</th>\n",
       "      <th>follows</th>\n",
       "      <th>fake</th>\n",
       "    </tr>\n",
       "  </thead>\n",
       "  <tbody>\n",
       "    <tr>\n",
       "      <th>0</th>\n",
       "      <td>1</td>\n",
       "      <td>0.27</td>\n",
       "      <td>0</td>\n",
       "      <td>0.0</td>\n",
       "      <td>0</td>\n",
       "      <td>53</td>\n",
       "      <td>0</td>\n",
       "      <td>0</td>\n",
       "      <td>32</td>\n",
       "      <td>1000</td>\n",
       "      <td>955</td>\n",
       "      <td>0</td>\n",
       "    </tr>\n",
       "    <tr>\n",
       "      <th>1</th>\n",
       "      <td>1</td>\n",
       "      <td>0.00</td>\n",
       "      <td>2</td>\n",
       "      <td>0.0</td>\n",
       "      <td>0</td>\n",
       "      <td>44</td>\n",
       "      <td>0</td>\n",
       "      <td>0</td>\n",
       "      <td>286</td>\n",
       "      <td>2740</td>\n",
       "      <td>533</td>\n",
       "      <td>0</td>\n",
       "    </tr>\n",
       "    <tr>\n",
       "      <th>2</th>\n",
       "      <td>1</td>\n",
       "      <td>0.10</td>\n",
       "      <td>2</td>\n",
       "      <td>0.0</td>\n",
       "      <td>0</td>\n",
       "      <td>0</td>\n",
       "      <td>0</td>\n",
       "      <td>1</td>\n",
       "      <td>13</td>\n",
       "      <td>159</td>\n",
       "      <td>98</td>\n",
       "      <td>0</td>\n",
       "    </tr>\n",
       "    <tr>\n",
       "      <th>3</th>\n",
       "      <td>1</td>\n",
       "      <td>0.00</td>\n",
       "      <td>1</td>\n",
       "      <td>0.0</td>\n",
       "      <td>0</td>\n",
       "      <td>82</td>\n",
       "      <td>0</td>\n",
       "      <td>0</td>\n",
       "      <td>679</td>\n",
       "      <td>414</td>\n",
       "      <td>651</td>\n",
       "      <td>0</td>\n",
       "    </tr>\n",
       "    <tr>\n",
       "      <th>4</th>\n",
       "      <td>1</td>\n",
       "      <td>0.00</td>\n",
       "      <td>2</td>\n",
       "      <td>0.0</td>\n",
       "      <td>0</td>\n",
       "      <td>0</td>\n",
       "      <td>0</td>\n",
       "      <td>1</td>\n",
       "      <td>6</td>\n",
       "      <td>151</td>\n",
       "      <td>126</td>\n",
       "      <td>0</td>\n",
       "    </tr>\n",
       "  </tbody>\n",
       "</table>\n",
       "</div>"
      ],
      "text/plain": [
       "   profilePic  lengthUsername  fullnameWords  lengthFullname  username  \\\n",
       "0           1            0.27              0             0.0         0   \n",
       "1           1            0.00              2             0.0         0   \n",
       "2           1            0.10              2             0.0         0   \n",
       "3           1            0.00              1             0.0         0   \n",
       "4           1            0.00              2             0.0         0   \n",
       "\n",
       "   descriptionLength  externalURL  private  posts  followers  follows  fake  \n",
       "0                 53            0        0     32       1000      955     0  \n",
       "1                 44            0        0    286       2740      533     0  \n",
       "2                  0            0        1     13        159       98     0  \n",
       "3                 82            0        0    679        414      651     0  \n",
       "4                  0            0        1      6        151      126     0  "
      ]
     },
     "execution_count": 4,
     "metadata": {},
     "output_type": "execute_result"
    }
   ],
   "source": [
    "data.head()"
   ]
  },
  {
   "cell_type": "markdown",
   "metadata": {},
   "source": [
    "### Data Preprocessing"
   ]
  },
  {
   "cell_type": "code",
   "execution_count": 5,
   "metadata": {},
   "outputs": [],
   "source": [
    "data = data.drop_duplicates()"
   ]
  },
  {
   "cell_type": "code",
   "execution_count": 6,
   "metadata": {},
   "outputs": [
    {
     "name": "stdout",
     "output_type": "stream",
     "text": [
      "profilePic           0\n",
      "lengthUsername       0\n",
      "fullnameWords        0\n",
      "lengthFullname       0\n",
      "username             0\n",
      "descriptionLength    0\n",
      "externalURL          0\n",
      "private              0\n",
      "posts                0\n",
      "followers            0\n",
      "follows              0\n",
      "fake                 0\n",
      "dtype: int64\n"
     ]
    }
   ],
   "source": [
    "missing_values = data.isnull().sum()\n",
    "print(missing_values)"
   ]
  },
  {
   "cell_type": "code",
   "execution_count": 7,
   "metadata": {},
   "outputs": [
    {
     "data": {
      "text/plain": [
       "0    287\n",
       "1    287\n",
       "Name: fake, dtype: int64"
      ]
     },
     "execution_count": 7,
     "metadata": {},
     "output_type": "execute_result"
    }
   ],
   "source": [
    "data.fake.value_counts()"
   ]
  },
  {
   "cell_type": "code",
   "execution_count": 8,
   "metadata": {},
   "outputs": [],
   "source": [
    "y = data['fake']\n",
    "x = data.drop('fake', axis = 1)\n",
    "columns = x.columns\n",
    "\n",
    "scaler = StandardScaler()\n",
    "scaler = scaler.fit(x)\n",
    "X = scaler.transform(x)\n",
    "features = pd.DataFrame(X, columns = columns)"
   ]
  },
  {
   "cell_type": "code",
   "execution_count": 9,
   "metadata": {},
   "outputs": [
    {
     "data": {
      "text/html": [
       "<div>\n",
       "<style scoped>\n",
       "    .dataframe tbody tr th:only-of-type {\n",
       "        vertical-align: middle;\n",
       "    }\n",
       "\n",
       "    .dataframe tbody tr th {\n",
       "        vertical-align: top;\n",
       "    }\n",
       "\n",
       "    .dataframe thead th {\n",
       "        text-align: right;\n",
       "    }\n",
       "</style>\n",
       "<table border=\"1\" class=\"dataframe\">\n",
       "  <thead>\n",
       "    <tr style=\"text-align: right;\">\n",
       "      <th></th>\n",
       "      <th>profilePic</th>\n",
       "      <th>lengthUsername</th>\n",
       "      <th>fullnameWords</th>\n",
       "      <th>lengthFullname</th>\n",
       "      <th>username</th>\n",
       "      <th>descriptionLength</th>\n",
       "      <th>externalURL</th>\n",
       "      <th>private</th>\n",
       "      <th>posts</th>\n",
       "      <th>followers</th>\n",
       "      <th>follows</th>\n",
       "    </tr>\n",
       "  </thead>\n",
       "  <tbody>\n",
       "    <tr>\n",
       "      <th>0</th>\n",
       "      <td>0.654111</td>\n",
       "      <td>0.505808</td>\n",
       "      <td>-1.386316</td>\n",
       "      <td>-0.289267</td>\n",
       "      <td>-0.190003</td>\n",
       "      <td>0.805681</td>\n",
       "      <td>-0.363524</td>\n",
       "      <td>-0.788333</td>\n",
       "      <td>-0.187600</td>\n",
       "      <td>-0.092867</td>\n",
       "      <td>0.485583</td>\n",
       "    </tr>\n",
       "    <tr>\n",
       "      <th>1</th>\n",
       "      <td>0.654111</td>\n",
       "      <td>-0.768414</td>\n",
       "      <td>0.512838</td>\n",
       "      <td>-0.289267</td>\n",
       "      <td>-0.190003</td>\n",
       "      <td>0.567012</td>\n",
       "      <td>-0.363524</td>\n",
       "      <td>-0.788333</td>\n",
       "      <td>0.443721</td>\n",
       "      <td>-0.090957</td>\n",
       "      <td>0.026159</td>\n",
       "    </tr>\n",
       "    <tr>\n",
       "      <th>2</th>\n",
       "      <td>0.654111</td>\n",
       "      <td>-0.296480</td>\n",
       "      <td>0.512838</td>\n",
       "      <td>-0.289267</td>\n",
       "      <td>-0.190003</td>\n",
       "      <td>-0.599814</td>\n",
       "      <td>-0.363524</td>\n",
       "      <td>1.268499</td>\n",
       "      <td>-0.234825</td>\n",
       "      <td>-0.093790</td>\n",
       "      <td>-0.447419</td>\n",
       "    </tr>\n",
       "    <tr>\n",
       "      <th>3</th>\n",
       "      <td>0.654111</td>\n",
       "      <td>-0.768414</td>\n",
       "      <td>-0.436739</td>\n",
       "      <td>-0.289267</td>\n",
       "      <td>-0.190003</td>\n",
       "      <td>1.574726</td>\n",
       "      <td>-0.363524</td>\n",
       "      <td>-0.788333</td>\n",
       "      <td>1.420528</td>\n",
       "      <td>-0.093510</td>\n",
       "      <td>0.154623</td>\n",
       "    </tr>\n",
       "    <tr>\n",
       "      <th>4</th>\n",
       "      <td>0.654111</td>\n",
       "      <td>-0.768414</td>\n",
       "      <td>0.512838</td>\n",
       "      <td>-0.289267</td>\n",
       "      <td>-0.190003</td>\n",
       "      <td>-0.599814</td>\n",
       "      <td>-0.363524</td>\n",
       "      <td>1.268499</td>\n",
       "      <td>-0.252223</td>\n",
       "      <td>-0.093799</td>\n",
       "      <td>-0.416936</td>\n",
       "    </tr>\n",
       "  </tbody>\n",
       "</table>\n",
       "</div>"
      ],
      "text/plain": [
       "   profilePic  lengthUsername  fullnameWords  lengthFullname  username  \\\n",
       "0    0.654111        0.505808      -1.386316       -0.289267 -0.190003   \n",
       "1    0.654111       -0.768414       0.512838       -0.289267 -0.190003   \n",
       "2    0.654111       -0.296480       0.512838       -0.289267 -0.190003   \n",
       "3    0.654111       -0.768414      -0.436739       -0.289267 -0.190003   \n",
       "4    0.654111       -0.768414       0.512838       -0.289267 -0.190003   \n",
       "\n",
       "   descriptionLength  externalURL   private     posts  followers   follows  \n",
       "0           0.805681    -0.363524 -0.788333 -0.187600  -0.092867  0.485583  \n",
       "1           0.567012    -0.363524 -0.788333  0.443721  -0.090957  0.026159  \n",
       "2          -0.599814    -0.363524  1.268499 -0.234825  -0.093790 -0.447419  \n",
       "3           1.574726    -0.363524 -0.788333  1.420528  -0.093510  0.154623  \n",
       "4          -0.599814    -0.363524  1.268499 -0.252223  -0.093799 -0.416936  "
      ]
     },
     "execution_count": 9,
     "metadata": {},
     "output_type": "execute_result"
    }
   ],
   "source": [
    "features.head()"
   ]
  },
  {
   "cell_type": "markdown",
   "metadata": {},
   "source": [
    "### Modelling"
   ]
  },
  {
   "cell_type": "code",
   "execution_count": 19,
   "metadata": {},
   "outputs": [],
   "source": [
    "x_train, x_test, y_train, y_test = train_test_split(features, y, test_size = 0.3, random_state = 42)"
   ]
  },
  {
   "cell_type": "code",
   "execution_count": 20,
   "metadata": {},
   "outputs": [],
   "source": [
    "model = RandomForestClassifier(n_estimators=300, bootstrap = True, max_features = 'sqrt')\n",
    "model.fit(x_train, y_train)\n",
    "y_pred = model.predict(x_test)"
   ]
  },
  {
   "cell_type": "code",
   "execution_count": 21,
   "metadata": {},
   "outputs": [
    {
     "name": "stdout",
     "output_type": "stream",
     "text": [
      "              precision    recall  f1-score   support\n",
      "\n",
      "           0       0.92      0.94      0.93        94\n",
      "           1       0.92      0.90      0.91        79\n",
      "\n",
      "    accuracy                           0.92       173\n",
      "   macro avg       0.92      0.92      0.92       173\n",
      "weighted avg       0.92      0.92      0.92       173\n",
      "\n"
     ]
    }
   ],
   "source": [
    "print(classification_report(y_test, y_pred))"
   ]
  },
  {
   "cell_type": "code",
   "execution_count": 22,
   "metadata": {},
   "outputs": [
    {
     "name": "stdout",
     "output_type": "stream",
     "text": [
      "0.9190751445086706\n"
     ]
    }
   ],
   "source": [
    "from sklearn.metrics import accuracy_score\n",
    "accuracy=accuracy_score(y_test, y_pred)\n",
    "print(accuracy)"
   ]
  },
  {
   "cell_type": "markdown",
   "metadata": {},
   "source": [
    "### Implementing HummingBird Algorithm  to optimize the model"
   ]
  },
  {
   "cell_type": "code",
   "execution_count": 23,
   "metadata": {},
   "outputs": [],
   "source": [
    "def objective_function(x):\n",
    "    # Define the objective function that you want to optimize, accuracy/precision/recall...\n",
    "    model = RandomForestClassifier(n_estimators=x, bootstrap = True, max_features = 'sqrt')\n",
    "    model.fit(x_train, y_train)\n",
    "    y_pred = model.predict(x_test)\n",
    "    accuracy=accuracy_score(y_test, y_pred)\n",
    "    return accuracy"
   ]
  },
  {
   "cell_type": "code",
   "execution_count": 24,
   "metadata": {},
   "outputs": [],
   "source": [
    "import random\n",
    "def hummingbird_algorithm(objective_function, bounds, population_size, max_iterations):\n",
    "    # Initialize population\n",
    "    population = np.random.uniform(bounds[0], bounds[1], (population_size, 1)) #generate random numbers between bound[0] and...\n",
    "    best_solution = None #it is the best population\n",
    "    best_fitness = float('inf') #best fitness is greater than number in the 1st iteration\n",
    "    for iteration in range(max_iterations):\n",
    "        # Flapping wing motion and nectar source update\n",
    "        for i in range(population_size): \n",
    "            # Flapping wing motion is used to generate new solutions\n",
    "            numberEstimators = int(population[i])\n",
    "            new_solution = numberEstimators + random.randint(bounds[0],bounds[1]) #adding a random perturbation to the solution\n",
    "            new_fitness = objective_function(new_solution)\n",
    "            # Nectar source update is used to update the population \n",
    "            if new_fitness < objective_function(numberEstimators):\n",
    "                population[i] = new_solution\n",
    "            # Update best solution\n",
    "            if new_fitness < best_fitness: \n",
    "                best_solution = new_solution\n",
    "                best_fitness = new_fitness\n",
    "    return best_solution, best_fitness"
   ]
  },
  {
   "cell_type": "code",
   "execution_count": 25,
   "metadata": {},
   "outputs": [
    {
     "name": "stdout",
     "output_type": "stream",
     "text": [
      "Best solution: 3\n",
      "Best fitness: 0.8554913294797688\n"
     ]
    }
   ],
   "source": [
    "bounds = [1, 20] #the search space of the algorithm\n",
    "population_size = 10 #number of hummingBirds\n",
    "max_iterations = 20 #the number of times the population will be updated\n",
    "best_solution, best_fitness = hummingbird_algorithm(objective_function, bounds, population_size, max_iterations)\n",
    "print(\"Best solution:\", best_solution)\n",
    "print(\"Best fitness:\", best_fitness)"
   ]
  },
  {
   "cell_type": "code",
   "execution_count": null,
   "metadata": {},
   "outputs": [],
   "source": []
  }
 ],
 "metadata": {
  "kernelspec": {
   "display_name": "Python 3 (ipykernel)",
   "language": "python",
   "name": "python3"
  },
  "language_info": {
   "codemirror_mode": {
    "name": "ipython",
    "version": 3
   },
   "file_extension": ".py",
   "mimetype": "text/x-python",
   "name": "python",
   "nbconvert_exporter": "python",
   "pygments_lexer": "ipython3",
   "version": "3.10.7"
  }
 },
 "nbformat": 4,
 "nbformat_minor": 4
}
